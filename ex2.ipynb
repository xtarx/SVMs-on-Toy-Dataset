{
 "cells": [
  {
   "cell_type": "code",
   "execution_count": 172,
   "metadata": {
    "collapsed": true
   },
   "outputs": [],
   "source": [
    "import pandas as pd\n",
    "import numpy as np\n",
    "from matplotlib import pyplot as plt\n",
    "from sklearn import svm\n",
    "from sklearn.metrics import accuracy_score\n",
    "from sklearn import metrics\n",
    "import pylab as pl"
   ]
  },
  {
   "cell_type": "markdown",
   "metadata": {},
   "source": [
    "read from CSV\n"
   ]
  },
  {
   "cell_type": "code",
   "execution_count": 134,
   "metadata": {},
   "outputs": [],
   "source": [
    "headers = [\"x1\",\"x2\"]\n",
    "train_x = pd.read_csv('/Users/xtarx/Documents/TUM/4th/MLMA/ex2-svm/twomoons/xtrain.cvs',names=headers)\n",
    "headers = [\"y\"]\n",
    "train_y = pd.read_csv('/Users/xtarx/Documents/TUM/4th/MLMA/ex2-svm/twomoons/ytrain.cvs',names=headers)\n",
    "train=pd.concat([train_x, train_y], axis=1)\n",
    "\n",
    "headers = [\"x1\",\"x2\"]\n",
    "test_x = pd.read_csv('/Users/xtarx/Documents/TUM/4th/MLMA/ex2-svm/twomoons/xtest.cvs',names=headers)\n",
    "headers = [\"y\"]\n",
    "test_y = pd.read_csv('/Users/xtarx/Documents/TUM/4th/MLMA/ex2-svm/twomoons/ytest.cvs',names=headers)\n",
    "test=pd.concat([test_x, test_y], axis=1)"
   ]
  },
  {
   "cell_type": "code",
   "execution_count": 137,
   "metadata": {},
   "outputs": [
    {
     "data": {
      "text/html": [
       "<div>\n",
       "<table border=\"1\" class=\"dataframe\">\n",
       "  <thead>\n",
       "    <tr style=\"text-align: right;\">\n",
       "      <th></th>\n",
       "      <th>x1</th>\n",
       "      <th>x2</th>\n",
       "      <th>y</th>\n",
       "    </tr>\n",
       "  </thead>\n",
       "  <tbody>\n",
       "    <tr>\n",
       "      <th>495</th>\n",
       "      <td>1.464900</td>\n",
       "      <td>0.17000</td>\n",
       "      <td>2</td>\n",
       "    </tr>\n",
       "    <tr>\n",
       "      <th>496</th>\n",
       "      <td>0.051546</td>\n",
       "      <td>0.18463</td>\n",
       "      <td>2</td>\n",
       "    </tr>\n",
       "    <tr>\n",
       "      <th>497</th>\n",
       "      <td>-0.112310</td>\n",
       "      <td>0.55191</td>\n",
       "      <td>2</td>\n",
       "    </tr>\n",
       "    <tr>\n",
       "      <th>498</th>\n",
       "      <td>2.215500</td>\n",
       "      <td>0.53493</td>\n",
       "      <td>2</td>\n",
       "    </tr>\n",
       "    <tr>\n",
       "      <th>499</th>\n",
       "      <td>0.458270</td>\n",
       "      <td>0.52203</td>\n",
       "      <td>2</td>\n",
       "    </tr>\n",
       "  </tbody>\n",
       "</table>\n",
       "</div>"
      ],
      "text/plain": [
       "<div>\n",
       "<table border=\"1\" class=\"dataframe\">\n",
       "  <thead>\n",
       "    <tr style=\"text-align: right;\">\n",
       "      <th></th>\n",
       "      <th>x1</th>\n",
       "      <th>x2</th>\n",
       "      <th>y</th>\n",
       "    </tr>\n",
       "  </thead>\n",
       "  <tbody>\n",
       "    <tr>\n",
       "      <th>495</th>\n",
       "      <td>1.464900</td>\n",
       "      <td>0.17000</td>\n",
       "      <td>2</td>\n",
       "    </tr>\n",
       "    <tr>\n",
       "      <th>496</th>\n",
       "      <td>0.051546</td>\n",
       "      <td>0.18463</td>\n",
       "      <td>2</td>\n",
       "    </tr>\n",
       "    <tr>\n",
       "      <th>497</th>\n",
       "      <td>-0.112310</td>\n",
       "      <td>0.55191</td>\n",
       "      <td>2</td>\n",
       "    </tr>\n",
       "    <tr>\n",
       "      <th>498</th>\n",
       "      <td>2.215500</td>\n",
       "      <td>0.53493</td>\n",
       "      <td>2</td>\n",
       "    </tr>\n",
       "    <tr>\n",
       "      <th>499</th>\n",
       "      <td>0.458270</td>\n",
       "      <td>0.52203</td>\n",
       "      <td>2</td>\n",
       "    </tr>\n",
       "  </tbody>\n",
       "</table>\n",
       "</div>"
      ]
     },
     "execution_count": 137,
     "metadata": {},
     "output_type": "execute_result"
    }
   ],
   "source": [
    "train.tail()\n",
    "# test.tail()"
   ]
  },
  {
   "cell_type": "code",
   "execution_count": 221,
   "metadata": {},
   "outputs": [],
   "source": [
    "def visualize(x, y):\n",
    "    for counter, i in test_x.iterrows():\n",
    "        if np.asscalar(y[counter]) == 1:\n",
    "            c1 = pl.scatter(i[\"x1\"], i[\"x2\"], c='r', marker='+')\n",
    "        elif np.asscalar(y[counter]) == 2:\n",
    "            c2 = pl.scatter(i[\"x1\"], i[\"x2\"], c='g', marker='o')\n",
    "\n",
    "    pl.legend([c1, c2], ['Class 1', 'Class 2'])\n",
    "    pl.title('TwoMoons dataset.... with 2 classes')\n",
    "    pl.show()"
   ]
  },
  {
   "cell_type": "code",
   "execution_count": 138,
   "metadata": {},
   "outputs": [],
   "source": [
    "def svm_fit(X,y,kernel_type):\n",
    "    clf =  svm.SVC(kernel=kernel_type)\n",
    "    clf.fit(X, y)  \n",
    "    pred=clf.predict(x)\n",
    "    return clf,(accuracy_score(y,pred,normalize=True)),(metrics.classification_report(y, pred))"
   ]
  },
  {
   "cell_type": "code",
   "execution_count": 148,
   "metadata": {},
   "outputs": [],
   "source": [
    "df = pd.DataFrame(train)\n",
    "train_x=df[['x1','x2']].as_matrix()\n",
    "train_y=df[['y']].as_matrix()\n",
    "\n",
    "trained_model,train_accuracy,train_report=svm_fit(train_x,train_y.ravel(),'linear')"
   ]
  },
  {
   "cell_type": "code",
   "execution_count": 223,
   "metadata": {
    "collapsed": true
   },
   "outputs": [
    {
     "data": {
      "image/png": "[encoded data removed]",
      "text/plain": [
       "<matplotlib.figure.Figure at 0x119cc5550>"
      ]
     },
     "metadata": {},
     "output_type": "display_data"
    }
   ],
   "source": [
    "# np.asscalar(train_y[1])\n",
    "visualize(train_x,train_y)"
   ]
  },
  {
   "cell_type": "code",
   "execution_count": null,
   "metadata": {},
   "outputs": [],
   "source": [
    "def svm_predict(trained_model,X,y):\n",
    "    pred=trained_model.predict(x)\n",
    "    return pred,(accuracy_score(y,pred,normalize=True)),(metrics.classification_report(y, pred))"
   ]
  },
  {
   "cell_type": "markdown",
   "metadata": {},
   "source": [
    "Create a function svm_predict receiving the model trained above, a matrix Xt of samples\n",
    "for testing and their expected outcomes yt\n",
    ". The function should return a vector of predicted\n",
    "outcomes and and a structure with the performance (including the accuracy, recall, FPR and\n",
    "precision) on the testing samples."
   ]
  },
  {
   "cell_type": "code",
   "execution_count": 145,
   "metadata": {},
   "outputs": [],
   "source": [
    "predictions,test_accuracy,test_report=svm_predict(trained_model,test_x,test_y)"
   ]
  },
  {
   "cell_type": "code",
   "execution_count": 153,
   "metadata": {},
   "outputs": [
    {
     "name": "stdout",
     "output_type": "stream",
     "text": [
      "             precision    recall  f1-score   support\n\n          1       0.88      0.85      0.86       246\n          2       0.86      0.89      0.87       254\n\navg / total       0.87      0.87      0.87       500\n\n             precision    recall  f1-score   support\n\n          1       0.87      0.84      0.86       245\n          2       0.86      0.88      0.87       255\n\navg / total       0.86      0.86      0.86       500\n\n"
     ]
    }
   ],
   "source": [
    "print(train_report)\n",
    "print(test_report)"
   ]
  },
  {
   "cell_type": "code",
   "execution_count": null,
   "metadata": {},
   "outputs": [],
   "source": [
    ""
   ]
  }
 ],
 "metadata": {
  "kernelspec": {
   "display_name": "Python 2",
   "language": "python",
   "name": "python2"
  },
  "language_info": {
   "codemirror_mode": {
    "name": "ipython",
    "version": 2.0
   },
   "file_extension": ".py",
   "mimetype": "text/x-python",
   "name": "python",
   "nbconvert_exporter": "python",
   "pygments_lexer": "ipython2",
   "version": "2.7.6"
  }
 },
 "nbformat": 4,
 "nbformat_minor": 0
}