{
 "cells": [
  {
   "cell_type": "code",
   "execution_count": 179,
   "metadata": {
    "collapsed": true
   },
   "outputs": [],
   "source": [
    "import os\n",
    "import pandas as pd\n",
    "from sklearn.decomposition import PCA\n",
    "from sklearn.model_selection import train_test_split\n",
    "\n",
    "path = os.getcwd()"
   ]
  },
  {
   "cell_type": "markdown",
   "metadata": {},
   "source": [
    "read from CSV\n"
   ]
  },
  {
   "cell_type": "code",
   "execution_count": 190,
   "metadata": {},
   "outputs": [],
   "source": [
    "def read_file(file_name):\n",
    "    data = pd.read_csv(path+'/03-digits-dataset/'+file_name)\n",
    "    y=data[data.columns[0]].as_matrix()\n",
    "    x=data.drop(data.columns[[0]], axis=1).as_matrix()\n",
    "    return  x,y"
   ]
  },
  {
   "cell_type": "code",
   "execution_count": 192,
   "metadata": {},
   "outputs": [],
   "source": [
    "train_x, train_y = read_file(\"train.csv\")"
   ]
  },
  {
   "cell_type": "code",
   "execution_count": 193,
   "metadata": {},
   "outputs": [],
   "source": [
    "#Test Data\n",
    "test_x = pd.read_csv(path + '/03-digits-dataset/test.csv').as_matrix()"
   ]
  },
  {
   "cell_type": "code",
   "execution_count": 194,
   "metadata": {
    "collapsed": false
   },
   "outputs": [],
   "source": [
    "test_y=pd.read_csv(path + '/03-digits-dataset/out.csv')\n",
    "test_y=test_y[test_y.columns[1]]"
   ]
  },
  {
   "cell_type": "code",
   "execution_count": 207,
   "metadata": {},
   "outputs": [
    {
     "data": {
      "image/png": "[encoded data removed]",
      "text/plain": [
       "<matplotlib.figure.Figure at 0x121f52a58>"
      ]
     },
     "metadata": {},
     "output_type": "display_data"
    }
   ],
   "source": [
    "index=232\n",
    "display_digit(test_x[index],test_y[index])"
   ]
  },
  {
   "cell_type": "heading",
   "metadata": {},
   "level": 1,
   "source": [
    "Dimensionality Reduction: apply PCA to both the training and testing images to reduce\n",
    "their dimensionality while preserving a given percentage (e.g. 80 %) of the variance of the\n",
    "dataset. In Python you may use the sklearn functionality: from sklearn.decomposition\n",
    "import PCA."
   ]
  },
  {
   "cell_type": "code",
   "execution_count": 196,
   "metadata": {},
   "outputs": [],
   "source": [
    "def pca_dim_reduction(X, X_test, desired_var):\n",
    "    # Check how many principle components needed for desired variance\n",
    "    pca = PCA()\n",
    "    pca.fit(X)\n",
    "    reached_var = 0 \n",
    "    for v in range(len(pca.explained_variance_ratio_)):\n",
    "        reached_var = reached_var + pca.explained_variance_ratio_[v]\n",
    "        if reached_var >= desired_var:\n",
    "            break\n",
    "    # PCA with desired number ov principle components\n",
    "    pca2 = PCA(n_components=v+1)\n",
    "    X = pca2.fit_transform(X)\n",
    "    X_test = pca2.transform(X_test)\n",
    "    print('*** PCA: reached variance: %2.4f, Numb. Dim.: %2.0f ***' % (reached_var, v+1))\n",
    "    return X,X_test, reached_var, v+1"
   ]
  },
  {
   "cell_type": "code",
   "execution_count": 197,
   "metadata": {},
   "outputs": [
    {
     "data": {
      "text/plain": [
       "(42000, 784)"
      ]
     },
     "execution_count": 197,
     "metadata": {},
     "output_type": "execute_result"
    }
   ],
   "source": [
    "train_x.shape"
   ]
  },
  {
   "cell_type": "code",
   "execution_count": 90,
   "metadata": {},
   "outputs": [
    {
     "name": "stdout",
     "output_type": "stream",
     "text": [
      "*** PCA: reached variance: 0.8003, Numb. Dim.: 43 ***\n"
     ]
    }
   ],
   "source": [
    "pca_train_x,pca_test_x,reached,v =  pca_dim_reduction(train_x,test_x,0.8)"
   ]
  },
  {
   "cell_type": "code",
   "execution_count": 198,
   "metadata": {},
   "outputs": [
    {
     "data": {
      "text/plain": [
       "0        2\n1        0\n2        9\n3        9\n4        3\n5        7\n6        0\n7        3\n8        0\n9        3\n10       5\n11       7\n12       4\n13       0\n14       4\n15       3\n16       3\n17       1\n18       9\n19       0\n20       9\n21       1\n22       1\n23       5\n24       7\n25       4\n26       2\n27       7\n28       4\n29       7\n        ..\n27970    5\n27971    0\n27972    4\n27973    8\n27974    0\n27975    3\n27976    6\n27977    0\n27978    1\n27979    9\n27980    3\n27981    1\n27982    1\n27983    0\n27984    4\n27985    5\n27986    2\n27987    2\n27988    9\n27989    6\n27990    7\n27991    6\n27992    1\n27993    9\n27994    7\n27995    9\n27996    7\n27997    3\n27998    9\n27999    2\nName: Label, dtype: int64"
      ]
     },
     "execution_count": 198,
     "metadata": {},
     "output_type": "execute_result"
    }
   ],
   "source": [
    "test_y"
   ]
  },
  {
   "cell_type": "code",
   "execution_count": 177,
   "metadata": {},
   "outputs": [],
   "source": [
    "test_y_2=binary_dataset(3,test_y)"
   ]
  },
  {
   "cell_type": "code",
   "execution_count": 199,
   "metadata": {},
   "outputs": [
    {
     "data": {
      "text/plain": [
       "0        0\n1        0\n2        0\n3        0\n4        1\n5        0\n6        0\n7        1\n8        0\n9        1\n10       0\n11       0\n12       0\n13       0\n14       0\n15       1\n16       1\n17       0\n18       0\n19       0\n20       0\n21       0\n22       0\n23       0\n24       0\n25       0\n26       0\n27       0\n28       0\n29       0\n        ..\n27970    0\n27971    0\n27972    0\n27973    0\n27974    0\n27975    1\n27976    0\n27977    0\n27978    0\n27979    0\n27980    1\n27981    0\n27982    0\n27983    0\n27984    0\n27985    0\n27986    0\n27987    0\n27988    0\n27989    0\n27990    0\n27991    0\n27992    0\n27993    0\n27994    0\n27995    0\n27996    0\n27997    1\n27998    0\n27999    0\nName: Label, dtype: int64"
      ]
     },
     "execution_count": 199,
     "metadata": {},
     "output_type": "execute_result"
    }
   ],
   "source": [
    "test_y_2"
   ]
  },
  {
   "cell_type": "markdown",
   "metadata": {},
   "source": [
    "Binary classification: redefine the problem as a binary classification task. Write a function\n",
    "that receives the chosen digit to classify as input and returns the corresponding binary training\n",
    "labels (E.g. use the function to choose digit 5, then all of the 5s in the training set will\n",
    "get label 1 while the remaining of the digits will get label 0)."
   ]
  },
  {
   "cell_type": "code",
   "execution_count": 170,
   "metadata": {},
   "outputs": [],
   "source": [
    "def binary_dataset(digit, y):\n",
    "    y_new=y.copy()\n",
    "    y_new[y_new != digit] = 0\n",
    "    y_new[y_new == digit] = 1\n",
    "    return y_new"
   ]
  },
  {
   "cell_type": "code",
   "execution_count": 208,
   "metadata": {},
   "outputs": [],
   "source": [
    "train_y_2=binary_dataset(2,train_y)\n",
    "\n",
    "X_train, X_test, y_train, y_test = train_test_split(train_x, train_y_2, test_size=0.15, random_state=42)"
   ]
  },
  {
   "cell_type": "code",
   "execution_count": 220,
   "metadata": {},
   "outputs": [
    {
     "data": {
      "image/png": "[encoded data removed]",
      "text/plain": [
       "<matplotlib.figure.Figure at 0x1222fbba8>"
      ]
     },
     "metadata": {},
     "output_type": "display_data"
    }
   ],
   "source": [
    "index=2\n",
    "display_digit(X_train[index],y_train[index])"
   ]
  },
  {
   "cell_type": "code",
   "execution_count": null,
   "metadata": {},
   "outputs": [],
   "source": [
    ""
   ]
  }
 ],
 "metadata": {
  "kernelspec": {
   "display_name": "Python 2",
   "language": "python",
   "name": "python2"
  },
  "language_info": {
   "codemirror_mode": {
    "name": "ipython",
    "version": 2.0
   },
   "file_extension": ".py",
   "mimetype": "text/x-python",
   "name": "python",
   "nbconvert_exporter": "python",
   "pygments_lexer": "ipython2",
   "version": "2.7.6"
  }
 },
 "nbformat": 4,
 "nbformat_minor": 0
}