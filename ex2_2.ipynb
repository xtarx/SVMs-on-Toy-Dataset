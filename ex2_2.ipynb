{
 "cells": [
  {
   "cell_type": "code",
   "execution_count": 77,
   "metadata": {
    "collapsed": true
   },
   "outputs": [],
   "source": [
    "import os\n",
    "import pandas as pd\n",
    "from sklearn.decomposition import PCA\n",
    "from sklearn.model_selection import train_test_split\n",
    "from matplotlib import pyplot as plt\n",
    "import pandas as pd\n",
    "import numpy as np\n",
    "from sklearn import svm\n",
    "from sklearn.metrics import accuracy_score\n",
    "from sklearn import metrics\n",
    "import pylab as pl\n",
    "import matplotlib.pyplot as plt\n",
    "import pandas as pd\n",
    "import numpy as np\n",
    "import matplotlib.pyplot as plt\n",
    "from matplotlib.colors import ListedColormap\n",
    "from sklearn.model_selection import train_test_split\n",
    "from sklearn.preprocessing import StandardScaler\n",
    "from sklearn.metrics import accuracy_score, precision_score, recall_score, confusion_matrix,roc_curve,auc, precision_recall_curve\n",
    "path = os.getcwd()"
   ]
  },
  {
   "cell_type": "markdown",
   "metadata": {},
   "source": [
    "read from CSV\n"
   ]
  },
  {
   "cell_type": "code",
   "execution_count": 2,
   "metadata": {
    "collapsed": true
   },
   "outputs": [],
   "source": [
    "def read_file(file_name):\n",
    "    data = pd.read_csv(path+'/03-digits-dataset/'+file_name)\n",
    "    y=data[data.columns[0]].as_matrix()\n",
    "    x=data.drop(data.columns[[0]], axis=1).as_matrix()\n",
    "    return  x,y"
   ]
  },
  {
   "cell_type": "code",
   "execution_count": 3,
   "metadata": {
    "collapsed": true
   },
   "outputs": [],
   "source": [
    "train_x, train_y = read_file(\"train.csv\")"
   ]
  },
  {
   "cell_type": "code",
   "execution_count": 4,
   "metadata": {
    "collapsed": true
   },
   "outputs": [],
   "source": [
    "#Test Data\n",
    "test_x = pd.read_csv(path + '/03-digits-dataset/test.csv').as_matrix()"
   ]
  },
  {
   "cell_type": "code",
   "execution_count": 5,
   "metadata": {
    "collapsed": false
   },
   "outputs": [],
   "source": [
    "test_y=pd.read_csv(path + '/03-digits-dataset/out.csv')\n",
    "test_y=test_y[test_y.columns[1]]"
   ]
  },
  {
   "cell_type": "code",
   "execution_count": 6,
   "metadata": {
    "collapsed": true
   },
   "outputs": [],
   "source": [
    "def display_digit(x, y):\n",
    "    pixels = x.reshape((28, 28))\n",
    "    label = y\n",
    "    plt.title('Label is {label}'.format(label=label))\n",
    "    plt.imshow(pixels, cmap='gray')\n",
    "    plt.show()"
   ]
  },
  {
   "cell_type": "code",
   "execution_count": 7,
   "metadata": {
    "collapsed": false
   },
   "outputs": [
    {
     "data": {
      "image/png": "[encoded data removed]",
      "text/plain": [
       "<matplotlib.figure.Figure at 0x10464ae48>"
      ]
     },
     "metadata": {},
     "output_type": "display_data"
    }
   ],
   "source": [
    "index=232\n",
    "display_digit(test_x[index],test_y[index])"
   ]
  },
  {
   "cell_type": "markdown",
   "metadata": {},
   "source": [
    "Dimensionality Reduction: apply PCA to both the training and testing images to reduce\n",
    "their dimensionality while preserving a given percentage (e.g. 80 %) of the variance of the\n",
    "dataset. In Python you may use the sklearn functionality: from sklearn.decomposition\n",
    "import PCA."
   ]
  },
  {
   "cell_type": "code",
   "execution_count": 8,
   "metadata": {
    "collapsed": true
   },
   "outputs": [],
   "source": [
    "def pca_dim_reduction(X, X_test, desired_var):\n",
    "    # Check how many principle components needed for desired variance\n",
    "    pca = PCA()\n",
    "    pca.fit(X)\n",
    "    reached_var = 0 \n",
    "    for v in range(len(pca.explained_variance_ratio_)):\n",
    "        reached_var = reached_var + pca.explained_variance_ratio_[v]\n",
    "        if reached_var >= desired_var:\n",
    "            break\n",
    "    # PCA with desired number ov principle components\n",
    "    pca2 = PCA(n_components=v+1)\n",
    "    X = pca2.fit_transform(X)\n",
    "    X_test = pca2.transform(X_test)\n",
    "    print('*** PCA: reached variance: %2.4f, Numb. Dim.: %2.0f ***' % (reached_var, v+1))\n",
    "    return X,X_test, reached_var, v+1"
   ]
  },
  {
   "cell_type": "code",
   "execution_count": 9,
   "metadata": {
    "collapsed": false,
    "scrolled": true
   },
   "outputs": [
    {
     "data": {
      "text/plain": [
       "(42000, 784)"
      ]
     },
     "execution_count": 9,
     "metadata": {},
     "output_type": "execute_result"
    }
   ],
   "source": [
    "train_x.shape"
   ]
  },
  {
   "cell_type": "code",
   "execution_count": 10,
   "metadata": {
    "collapsed": false
   },
   "outputs": [
    {
     "name": "stdout",
     "output_type": "stream",
     "text": [
      "*** PCA: reached variance: 0.8003, Numb. Dim.: 43 ***\n"
     ]
    }
   ],
   "source": [
    "pca_train_x,pca_test_x,reached,v =  pca_dim_reduction(train_x,test_x,0.8)"
   ]
  },
  {
   "cell_type": "code",
   "execution_count": 11,
   "metadata": {
    "collapsed": false
   },
   "outputs": [],
   "source": [
    "def binary_dataset(digit, y):\n",
    "    y_new=y.copy()\n",
    "    y_new[y_new != digit] = 0\n",
    "    y_new[y_new == digit] = 1\n",
    "    return y_new"
   ]
  },
  {
   "cell_type": "code",
   "execution_count": 12,
   "metadata": {
    "collapsed": false
   },
   "outputs": [],
   "source": [
    "test_y_2=binary_dataset(3,test_y)"
   ]
  },
  {
   "cell_type": "markdown",
   "metadata": {},
   "source": [
    "Binary classification: redefine the problem as a binary classification task. Write a function\n",
    "that receives the chosen digit to classify as input and returns the corresponding binary training\n",
    "labels (E.g. use the function to choose digit 5, then all of the 5s in the training set will\n",
    "get label 1 while the remaining of the digits will get label 0)."
   ]
  },
  {
   "cell_type": "code",
   "execution_count": 13,
   "metadata": {
    "collapsed": true
   },
   "outputs": [],
   "source": [
    "def get_performance(labels, predicted_labels):\n",
    "    cm = confusion_matrix(labels, predicted_labels)\n",
    "    tn = float(cm[1][1]) / np.sum(cm[1])\n",
    "\n",
    "    dict = {\n",
    "        \"accuracy\": accuracy_score(labels, predicted_labels),\n",
    "        \"recall\": recall_score(labels, predicted_labels),\n",
    "        \"precision\": precision_score(labels, predicted_labels),\n",
    "        \"FPR\": 1 - tn\n",
    "\n",
    "    }\n",
    "    return dict"
   ]
  },
  {
   "cell_type": "code",
   "execution_count": 14,
   "metadata": {
    "collapsed": true
   },
   "outputs": [],
   "source": [
    "train_y_2=binary_dataset(2,train_y)\n",
    "\n",
    "X_train, X_test, y_train, y_test = train_test_split(train_x, train_y_2, test_size=0.15, random_state=42)"
   ]
  },
  {
   "cell_type": "code",
   "execution_count": 15,
   "metadata": {
    "collapsed": false
   },
   "outputs": [
    {
     "data": {
      "image/png": "[encoded data removed]",
      "text/plain": [
       "<matplotlib.figure.Figure at 0x110cb09b0>"
      ]
     },
     "metadata": {},
     "output_type": "display_data"
    }
   ],
   "source": [
    "index=2\n",
    "display_digit(X_train[index],y_train[index])"
   ]
  },
  {
   "cell_type": "markdown",
   "metadata": {},
   "source": [
    "Hyper-parameter analysis: Use the train and validation sets to compute the performance\n",
    "of different SVM models. Consider both a linear and a RBF kernel and change\n",
    "the values of the hyper-parameter C as in the first exercise, as well as the sigma parameter\n",
    "of the RBF kernel. For each case model the following performance measures:\n",
    "accuracy, recall, FPR and precision."
   ]
  },
  {
   "cell_type": "code",
   "execution_count": 108,
   "metadata": {
    "collapsed": false
   },
   "outputs": [],
   "source": [
    "h = .02  # step size in the mesh\n",
    "def compare(names, classifiers, datasets,testsize=.4):\n",
    "    perfomance = []\n",
    "    recall = []\n",
    "    precision = []  \n",
    "    fpr = []    \n",
    "    tpr = []\n",
    "     \n",
    "    figure = plt.figure(figsize=(27, 9))\n",
    "    i = 1\n",
    "    # iterate over datasets\n",
    "    for ds_cnt, ds in enumerate(datasets):\n",
    "        # preprocess dataset, split into training and test part\n",
    "        X, y = ds\n",
    "        X = StandardScaler().fit_transform(X)\n",
    "        X_train, X_test, y_train, y_test = \\\n",
    "            train_test_split(X, y, test_size=testsize, random_state=42)\n",
    "\n",
    "    \n",
    "        # iterate over classifiers\n",
    "        for name, clf in zip(names, classifiers):\n",
    "            ax = plt.subplot(len(datasets), len(classifiers) + 1, i)\n",
    "            clf.fit(X_train, y_train)\n",
    "            score = clf.score(X_test, y_test)\n",
    "            \n",
    "\n",
    "    \n",
    "            predicted=clf.predict(X_test)\n",
    "            \n",
    "            performance_metric=get_performance(y_test,predicted);\n",
    "            perfomance.append(performance_metric)\n",
    "\n",
    "            \n",
    "            #calcuate ROC\n",
    "            prob=clf.predict_proba(X_test)\n",
    "            proboo=prob[:,0]\n",
    "            t=y_test.ravel()\n",
    "            fpr_v, tpr_v, _ = roc_curve(t,proboo)\n",
    "            fpr.append(fpr_v)\n",
    "            tpr.append(tpr_v)\n",
    "\n",
    "            \n",
    "            #calcualte RF\n",
    "            precision_v, recall_v, _ = precision_recall_curve(t,proboo)\n",
    "            precision.append(precision_v)\n",
    "            recall.append(recall_v)\n",
    "\n",
    "\n",
    "            print(\"score is \",score)\n",
    "\n",
    "\n",
    "            i += 1\n",
    "        return perfomance, fpr,tpr,recall,precision\n"
   ]
  },
  {
   "cell_type": "code",
   "execution_count": 117,
   "metadata": {
    "collapsed": false
   },
   "outputs": [
    {
     "name": "stdout",
     "output_type": "stream",
     "text": [
      "score is  0.961220238095\n"
     ]
    },
    {
     "name": "stderr",
     "output_type": "stream",
     "text": [
      "/Users/xtarx/anaconda/envs/tensorflow_py_3/lib/python3.5/site-packages/sklearn/metrics/classification.py:1113: UndefinedMetricWarning: Precision is ill-defined and being set to 0.0 due to no predicted samples.\n",
      "  'precision', 'predicted', average, warn_for)\n"
     ]
    },
    {
     "name": "stdout",
     "output_type": "stream",
     "text": [
      "score is  0.910029761905\n",
      "score is  0.910029761905\n",
      "score is  0.954494047619\n",
      "score is  0.990714285714\n",
      "score is  0.991875\n",
      "score is  0.992053571429\n",
      "score is  0.992053571429\n",
      "score is  0.992053571429\n"
     ]
    }
   ],
   "source": [
    "#defining a dictionary of classifier\n",
    "kernels = {'linear', 'rbf'}\n",
    "cs = [0.001, 0.01, 0.1, 1, 10, 100, 1000, 10000]\n",
    "# cs = {0.001}\n",
    "names = [\"Linear\"]\n",
    "\n",
    "classifiers = [svm.SVC(kernel=\"linear\",probability=True, C=1)]\n",
    "\n",
    "for c in cs:\n",
    "    classifiers.append(svm.SVC(kernel=\"rbf\",probability=True, C=c))\n",
    "    names.append(\"RBF C=\"+str(c))\n",
    "\n",
    "\n",
    "train_y_5=binary_dataset(5,train_y)\n",
    "test_y_5=binary_dataset(5,test_y)\n",
    "\n",
    "# digit5_train, digit5_test, digit5_train, digit5_test = train_test_split(train_x, train_y_5, test_size=0.15, random_state=42)\n",
    "\n",
    "# data_digit_5 = (pca_train_x,train_y_5,pca_test_x,test_y_5)\n",
    "\n",
    "data_digit_5 = (pca_train_x,train_y_5)\n",
    "\n",
    "type(data_digit_5)\n",
    "datasets = [data_digit_5]\n",
    "#        return perfomance, fpr,tpr,recall,precision\n",
    "\n",
    "perfomance, fpr,tpr,recall,precision=compare(names, classifiers, datasets,.8)\n",
    "\n"
   ]
  },
  {
   "cell_type": "code",
   "execution_count": 121,
   "metadata": {
    "collapsed": false
   },
   "outputs": [
    {
     "data": {
      "text/plain": [
       "9"
      ]
     },
     "execution_count": 121,
     "metadata": {},
     "output_type": "execute_result"
    }
   ],
   "source": [
    "len(fpr)"
   ]
  },
  {
   "cell_type": "code",
   "execution_count": 119,
   "metadata": {
    "collapsed": false
   },
   "outputs": [
    {
     "data": {
      "text/plain": [
       "(42000, 784)"
      ]
     },
     "execution_count": 119,
     "metadata": {},
     "output_type": "execute_result"
    }
   ],
   "source": [
    "train_x.shape"
   ]
  },
  {
   "cell_type": "code",
   "execution_count": 131,
   "metadata": {
    "collapsed": false
   },
   "outputs": [
    {
     "data": {
      "image/png": "[encoded data removed]",
      "text/plain": [
       "<matplotlib.figure.Figure at 0x1100872e8>"
      ]
     },
     "metadata": {},
     "output_type": "display_data"
    }
   ],
   "source": [
    "# Plot Precision-Recall curve\n",
    "plt.clf()\n",
    "\n",
    "for i in range(len(perfomance)):\n",
    "\n",
    "    plt.plot(recall[i], precision[i],\n",
    "         label=names[i])\n",
    "plt.xlabel('Recall')\n",
    "plt.ylabel('Precision')\n",
    "plt.ylim([0.0, 1.05])\n",
    "plt.xlim([0.0, 1.0])\n",
    "plt.title('Precision-Recall ')\n",
    "plt.legend(loc=\"lower left\")\n",
    "plt.show()\n"
   ]
  },
  {
   "cell_type": "code",
   "execution_count": 130,
   "metadata": {
    "collapsed": false
   },
   "outputs": [
    {
     "name": "stdout",
     "output_type": "stream",
     "text": [
      "ROC AUC: 0.06\n"
     ]
    },
    {
     "data": {
      "image/png": "[encoded data removed]",
      "text/plain": [
       "<matplotlib.figure.Figure at 0x10f67c828>"
      ]
     },
     "metadata": {},
     "output_type": "display_data"
    }
   ],
   "source": [
    "\n",
    "\n",
    "\n",
    "i=0\n",
    "\n",
    "# Calculate the AUC\n",
    "roc_auc = auc(fpr[i], tpr[i])\n",
    "print ('ROC AUC: %0.2f' % roc_auc)\n",
    "            \n",
    "# Plot of a ROC curve for a specific class\n",
    "#    plt.plot(fpr[i], tpr[i], label= names[i]+' (area = %0.2f)' % roc_auc)\n",
    "for i in range(len(perfomance)):\n",
    "    plt.plot(fpr[i], tpr[i], label= names[i])\n",
    "    \n",
    "plt.plot([0, 1], [0, 1], 'k--')\n",
    "plt.xlim([0.0, 1.0])\n",
    "plt.ylim([0.0, 1.05])\n",
    "plt.xlabel('False Positive Rate')\n",
    "plt.ylabel('True Positive Rate')\n",
    "plt.title('ROC Curve')\n",
    "plt.legend(loc=\"lower left\")\n",
    "plt.show()    "
   ]
  }
 ],
 "metadata": {
  "anaconda-cloud": {},
  "kernelspec": {
   "display_name": "Python [conda env:tensorflow_py_3]",
   "language": "python",
   "name": "conda-env-tensorflow_py_3-py"
  },
  "language_info": {
   "codemirror_mode": {
    "name": "ipython",
    "version": 3
   },
   "file_extension": ".py",
   "mimetype": "text/x-python",
   "name": "python",
   "nbconvert_exporter": "python",
   "pygments_lexer": "ipython3",
   "version": "3.5.2"
  }
 },
 "nbformat": 4,
 "nbformat_minor": 0
}
